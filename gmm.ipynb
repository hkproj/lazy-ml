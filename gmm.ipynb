{
 "cells": [
  {
   "cell_type": "code",
   "execution_count": null,
   "metadata": {},
   "outputs": [],
   "source": [
    "import numpy as np\n",
    "from tqdm import tqdm\n",
    "import matplotlib.pyplot as plt"
   ]
  },
  {
   "cell_type": "code",
   "execution_count": null,
   "metadata": {},
   "outputs": [],
   "source": [
    "# Generate data from a bivariate gaussian distribution\n",
    "\n",
    "# Mean vector\n",
    "original_mu_list = [np.array([0, 0]), np.array([10, 5]), np.array([6, 8])]\n",
    "# Covariance matrix\n",
    "original_sigma_list = [np.array([[5, 0], [0, 5]]), np.array([[10, 0], [0, 10]]), np.array([[3, 0], [0, 3]])]\n",
    "# Number of samples\n",
    "n = 300\n",
    "\n",
    "all_samples = []\n",
    "\n",
    "for mu, cov_matrix in zip(original_mu_list, original_sigma_list):\n",
    "    # Generate samples\n",
    "    X = np.random.multivariate_normal(mu, cov_matrix, n)\n",
    "    all_samples.append(X)\n",
    "    \n",
    "colors = ['r', 'g', 'b']\n",
    "markers = ['.', '.', '.']\n",
    "\n",
    "# Plot the samples\n",
    "for i in range(len(all_samples)):\n",
    "    plt.scatter(all_samples[i][:, 0], all_samples[i][:, 1], color=colors[i], marker=markers[i])\n",
    "for i in range(len(original_mu_list)):\n",
    "    circle = plt.Circle((original_mu_list[i][0], original_mu_list[i][1]), (original_sigma_list[i][0, 0]), color=colors[i], fill=False)\n",
    "    plt.gcf().gca().add_artist(circle)\n",
    "\n",
    "plt.show()\n"
   ]
  },
  {
   "cell_type": "code",
   "execution_count": null,
   "metadata": {},
   "outputs": [],
   "source": [
    "k = 3\n",
    "# Build the input to the EM algorithm\n",
    "X = np.concatenate(all_samples, axis=0)\n",
    "n = X.shape[0] # Number of data points\n",
    "d = X.shape[1] # Dimension of the data points\n",
    "\n",
    "# Initialize the parameters\n",
    "mu = np.random.rand(k, 2)\n",
    "# Estimate the initial covariance matrices using the covariance of the data because otherwise scipy cannot sample from it as the cov matrix is not positive definite\n",
    "cov_matrix = [np.cov(X.T) for _ in range(k)]\n",
    "pi = np.random.rand(k)\n",
    "# Normalize pi\n",
    "pi = pi / np.sum(pi)\n",
    "\n",
    "num_iter = 200\n",
    "\n",
    "def pdf_norrmal_distribution(x, mu, cov_matrix):\n",
    "    return (1 / np.sqrt(2 * np.pi * cov_matrix)) * np.exp(-0.5 * ((x - mu) ** 2) / cov_matrix)\n",
    "\n",
    "# Run the EM algorithm\n",
    "for i in tqdm(range(num_iter), desc='EM iteration'):\n",
    "    # E-step\n",
    "    # Compute the responsibilities using the previous mu, sigma and pi\n",
    "    r  = np.zeros((n, k))\n",
    "    for i in range(n):\n",
    "        for j in range(k):\n",
    "            # Compute the pdf for the ith data point and the jth gaussian\n",
    "            r[i, j] = pi[j] * multivariate_normal.pdf(X[i], mu[j], cov_matrix[j])\n",
    "    r = r / np.sum(r, axis=1, keepdims=True)    \n",
    "    \n",
    "    # M-step\n",
    "    # Compute the new parameters\n",
    "    for j in range(k):\n",
    "        N_j = np.sum(r[:, j]) # Sum of the responsibilities for the jth gaussian\n",
    "        mu[j] = np.sum(r[:, j].reshape(-1, 1) * X, axis=0) / N_j\n",
    "        cov_matrix[j] = (1 / N_j) * np.sum(r[:, j].reshape(-1, 1, 1) * np.matmul((X - mu[j]).reshape(-1, 2, 1), (X - mu[j]).reshape(-1, 1, 2)), axis=0)\n",
    "        pi[j] = N_j / n\n",
    "\n"
   ]
  },
  {
   "cell_type": "code",
   "execution_count": null,
   "metadata": {},
   "outputs": [],
   "source": [
    "# Plot the results\n",
    "colors = ['r', 'g', 'b']\n",
    "markers = ['.', '.', '.']\n",
    "\n",
    "# Plot the samples\n",
    "for i in range(len(all_samples)):\n",
    "    plt.scatter(all_samples[i][:, 0], all_samples[i][:, 1], color=colors[i], marker=markers[i])\n",
    "for i in range(len(original_mu_list)):\n",
    "    circle = plt.Circle((original_mu_list[i][0], original_mu_list[i][1]), (original_sigma_list[i][0, 0]), color=colors[i], fill=False)\n",
    "    plt.gcf().gca().add_artist(circle)\n",
    "\n",
    "# Plot the gaussians\n",
    "for i in range(k):\n",
    "    circle = plt.Circle((mu[i][0], mu[i][1]), (cov_matrix[i][0, 0]), color='k', fill=False)\n",
    "    plt.gcf().gca().add_artist(circle)\n",
    "\n",
    "plt.show()\n"
   ]
  },
  {
   "cell_type": "code",
   "execution_count": null,
   "metadata": {},
   "outputs": [],
   "source": []
  }
 ],
 "metadata": {
  "kernelspec": {
   "display_name": "lazy-ml",
   "language": "python",
   "name": "python3"
  },
  "language_info": {
   "codemirror_mode": {
    "name": "ipython",
    "version": 3
   },
   "file_extension": ".py",
   "mimetype": "text/x-python",
   "name": "python",
   "nbconvert_exporter": "python",
   "pygments_lexer": "ipython3",
   "version": "3.11.3"
  },
  "orig_nbformat": 4
 },
 "nbformat": 4,
 "nbformat_minor": 2
}
