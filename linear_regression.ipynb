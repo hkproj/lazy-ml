{
 "cells": [
  {
   "cell_type": "code",
   "execution_count": 1,
   "metadata": {},
   "outputs": [],
   "source": [
    "from sklearn.datasets import fetch_california_housing\n",
    "from sklearn.model_selection import train_test_split\n",
    "\n",
    "california_dataset = fetch_california_housing()\n",
    "x_train, x_test, y_train, y_test = train_test_split(california_dataset.data, california_dataset.target, test_size=0.2, random_state=42)"
   ]
  },
  {
   "cell_type": "code",
   "execution_count": 2,
   "metadata": {},
   "outputs": [],
   "source": [
    "import torch\n",
    "from tqdm import tqdm\n",
    "\n",
    "class LinearRegressionGradientDescent:\n",
    "    def __init__(self, x, y, learning_rate: float, device: torch.device):\n",
    "        self.x = x.to(device)\n",
    "        self.y = y.to(device)\n",
    "        self.learning_rate = learning_rate\n",
    "\n",
    "        assert x.shape[0] == y.shape[0], \"The number of samples in x_train and y_train must be equal\"\n",
    "\n",
    "        self.num_samples = y.shape[0]\n",
    "        self.num_features = x.shape[1]\n",
    "\n",
    "        self.bias = torch.zeros((1, 1)).to(device)\n",
    "        self.weights = torch.zeros((self.num_features, 1)).to(device)\n",
    "\n",
    "    def predict(self, bias, weights, x):\n",
    "        return torch.matmul(x, weights) + bias\n",
    "\n",
    "    def loss(self, y, predicted):\n",
    "        # MSE loss\n",
    "        return torch.mean(torch.square(y - predicted))\n",
    "    \n",
    "    def step(self):\n",
    "        # Make predictions using the current weights and bias\n",
    "        predicted = self.predict(self.bias, self.weights, self.x)\n",
    "        # Get the loss \n",
    "        loss = self.loss(self.y, predicted)\n",
    "        # Calculate the gradients\n",
    "        delta_weights = 1 / self.num_samples * torch.matmul(self.x.T, (predicted - self.y.reshape(-1, 1)))\n",
    "        delta_bias = 1 / self.num_samples * torch.sum(predicted - self.y.reshape(-1, 1))\n",
    "        # Update the weights and bias\n",
    "        self.weights = self.weights - self.learning_rate * delta_weights\n",
    "        self.bias = self.bias - self.learning_rate * delta_bias\n",
    "        return loss"
   ]
  },
  {
   "cell_type": "code",
   "execution_count": 3,
   "metadata": {},
   "outputs": [
    {
     "name": "stdout",
     "output_type": "stream",
     "text": [
      "Running on cuda\n"
     ]
    },
    {
     "name": "stderr",
     "output_type": "stream",
     "text": [
      "Training: 100%|██████████| 1000/1000 [00:15<00:00, 65.43it/s]\n"
     ]
    },
    {
     "data": {
      "text/plain": [
       "[<matplotlib.lines.Line2D at 0x7fc434afb990>]"
      ]
     },
     "execution_count": 3,
     "metadata": {},
     "output_type": "execute_result"
    },
    {
     "data": {
      "image/png": "[encoded data removed]",
      "text/plain": [
       "<Figure size 640x480 with 1 Axes>"
      ]
     },
     "metadata": {},
     "output_type": "display_data"
    }
   ],
   "source": [
    "import matplotlib.pyplot as plt\n",
    "import numpy as np\n",
    "\n",
    "# Select the device to run the code on\n",
    "device = torch.device(\"cuda\" if torch.cuda.is_available() else \"cpu\")\n",
    "\n",
    "print (f'Running on {device}')\n",
    "\n",
    "iterations = 1000\n",
    "learning_rate = 10e-9\n",
    "model = LinearRegressionGradientDescent(torch.Tensor(x_train), torch.Tensor(y_train), learning_rate, device)\n",
    "training_history = {}\n",
    "\n",
    "for iteration in tqdm(range(iterations), desc=\"Training\"):\n",
    "    loss = model.step()\n",
    "    \n",
    "    loss_value = loss.cpu().numpy().item()\n",
    "    bias = model.bias.cpu().detach()\n",
    "    weights = model.weights.cpu().detach()\n",
    "    training_history[iteration] = (loss_value, bias, weights)\n",
    "\n",
    "plt.xlabel(\"Iteration\")\n",
    "plt.title(\"Iteration vs Loss\")\n",
    "plt.ylabel(\"Loss\")\n",
    "plt.plot(np.arange(iterations), [training_history[i][0] for i in range(iterations)])"
   ]
  },
  {
   "cell_type": "code",
   "execution_count": 4,
   "metadata": {},
   "outputs": [
    {
     "ename": "RuntimeError",
     "evalue": "Expected all tensors to be on the same device, but found at least two devices, cuda:0 and cpu! (when checking argument for argument mat2 in method wrapper_CUDA_mm)",
     "output_type": "error",
     "traceback": [
      "\u001b[0;31m---------------------------------------------------------------------------\u001b[0m",
      "\u001b[0;31mRuntimeError\u001b[0m                              Traceback (most recent call last)",
      "Cell \u001b[0;32mIn[4], line 24\u001b[0m\n\u001b[1;32m     21\u001b[0m y_test \u001b[39m=\u001b[39m torch\u001b[39m.\u001b[39mTensor(y_test)\u001b[39m.\u001b[39mto(device)\n\u001b[1;32m     22\u001b[0m _, bias, weights \u001b[39m=\u001b[39m training_history[max_iteration]\n\u001b[0;32m---> 24\u001b[0m plot_predictions(\u001b[39m100\u001b[39;49m, \u001b[39m3\u001b[39;49m, x_test, y_test, weights, bias)\n",
      "Cell \u001b[0;32mIn[4], line 5\u001b[0m, in \u001b[0;36mplot_predictions\u001b[0;34m(num_samples, var_index, x_test, y_test, weights, bias)\u001b[0m\n\u001b[1;32m      3\u001b[0m x_test \u001b[39m=\u001b[39m x_test[random_indices]\n\u001b[1;32m      4\u001b[0m y_test \u001b[39m=\u001b[39m y_test[random_indices]\n\u001b[0;32m----> 5\u001b[0m y_predicted \u001b[39m=\u001b[39m (torch\u001b[39m.\u001b[39;49mmatmul(x_test, weights) \u001b[39m+\u001b[39m bias)\u001b[39m.\u001b[39mflatten()\n\u001b[1;32m      7\u001b[0m \u001b[39m# Calculate the MSE\u001b[39;00m\n\u001b[1;32m      8\u001b[0m mse \u001b[39m=\u001b[39m torch\u001b[39m.\u001b[39mmean(torch\u001b[39m.\u001b[39msquare(y_test \u001b[39m-\u001b[39m y_predicted))\n",
      "\u001b[0;31mRuntimeError\u001b[0m: Expected all tensors to be on the same device, but found at least two devices, cuda:0 and cpu! (when checking argument for argument mat2 in method wrapper_CUDA_mm)"
     ]
    }
   ],
   "source": [
    "def plot_predictions(num_samples: int, var_index: int, x_test, y_test, weights, bias) -> None:\n",
    "    random_indices = np.random.choice(x_test.shape[0], num_samples)\n",
    "    x_test = x_test[random_indices]\n",
    "    y_test = y_test[random_indices]\n",
    "    y_predicted = (torch.matmul(x_test, weights) + bias).flatten()\n",
    "\n",
    "    # Calculate the MSE\n",
    "    mse = torch.mean(torch.square(y_test - y_predicted))\n",
    "\n",
    "    plt.xlabel(california_dataset.feature_names[var_index])\n",
    "    plt.ylabel(california_dataset.target_names[0])\n",
    "    plt.scatter(x_test[:,var_index].cpu().numpy(), y_test.cpu().numpy()) # Plot test data\n",
    "    plt.scatter(x_test[:,var_index].cpu().numpy(), y_predicted.cpu().numpy(), color=\"k\") # Plot predictions\n",
    "    plt.title(f\"Predictions vs actual values (MSE: {mse:.2f})\")\n",
    "    plt.show()\n",
    "\n",
    "min_iteration = 0\n",
    "max_iteration = iterations - 1\n",
    "\n",
    "x_test = torch.Tensor(x_test)\n",
    "y_test = torch.Tensor(y_test)\n",
    "_, bias, weights = training_history[max_iteration]\n",
    "\n",
    "plot_predictions(100, 3, x_test, y_test, weights, bias)"
   ]
  },
  {
   "cell_type": "code",
   "execution_count": null,
   "metadata": {},
   "outputs": [],
   "source": []
  }
 ],
 "metadata": {
  "kernelspec": {
   "display_name": "lazy-ml",
   "language": "python",
   "name": "python3"
  },
  "language_info": {
   "codemirror_mode": {
    "name": "ipython",
    "version": 3
   },
   "file_extension": ".py",
   "mimetype": "text/x-python",
   "name": "python",
   "nbconvert_exporter": "python",
   "pygments_lexer": "ipython3",
   "version": "3.11.3"
  },
  "orig_nbformat": 4
 },
 "nbformat": 4,
 "nbformat_minor": 2
}
